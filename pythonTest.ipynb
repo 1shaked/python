{
 "cells": [
  {
   "cell_type": "code",
   "execution_count": 8,
   "metadata": {},
   "outputs": [
    {
     "name": "stdout",
     "output_type": "stream",
     "text": [
      "['en', 'eo', 'ne', 'no', 'oe', 'on']\n"
     ]
    }
   ],
   "source": [
    "from itertools import combinations, permutations  \n",
    "rawInput = input()\n",
    "values = rawInput.split(\" \")\n",
    "S, k = values[0] , values[1]\n",
    "listWithValue = list(permutations(sorted(S), int(k)) )\n",
    "listWithValue = [''.join(x) for x in listWithValue]\n",
    "listWithValue = sorted(listWithValue)\n",
    "print(listWithValue )"
   ]
  },
  {
   "cell_type": "code",
   "execution_count": null,
   "metadata": {},
   "outputs": [],
   "source": []
  },
  {
   "cell_type": "code",
   "execution_count": 11,
   "metadata": {},
   "outputs": [],
   "source": [
    "lst =  [1, 2, 3, 4, 5, 6, 7] #[x for x in range(100) ]\n",
    "\n",
    "a = 4\n",
    "\n",
    "targetAmount  = 3"
   ]
  },
  {
   "cell_type": "code",
   "execution_count": 12,
   "metadata": {},
   "outputs": [
    {
     "name": "stdout",
     "output_type": "stream",
     "text": [
      "-1\n"
     ]
    }
   ],
   "source": [
    "count  = 0\n",
    "for index, num in enumerate(lst):\n",
    "    if (num % a == 0):\n",
    "        count += 1\n",
    "        if count == targetAmount:\n",
    "            print(index)\n",
    "            break\n",
    "if count != targetAmount:\n",
    "    print('-1')"
   ]
  },
  {
   "cell_type": "code",
   "execution_count": 15,
   "metadata": {},
   "outputs": [],
   "source": [
    "lst2: list = ['rick', 'and', 'morty']\n",
    "lenLst2 = len(lst2)"
   ]
  },
  {
   "cell_type": "code",
   "execution_count": 18,
   "metadata": {},
   "outputs": [
    {
     "name": "stdout",
     "output_type": "stream",
     "text": [
      "The avg is 4.0\n",
      "String longer than avg is -> morty\n"
     ]
    }
   ],
   "source": [
    "avg = 0\n",
    "count = 0\n",
    "for s in lst2:\n",
    "    count += len(s)\n",
    "\n",
    "avg = count / lenLst2\n",
    "print(f'The avg is {avg}')\n",
    "\n",
    "index  = 0\n",
    "\n",
    "while index < lenLst2:\n",
    "    s = lst2[index]\n",
    "    if (len(s) > avg):\n",
    "        print(f'String longer than avg is -> {s}')\n",
    "    index += 1\n",
    "\n"
   ]
  },
  {
   "cell_type": "code",
   "execution_count": 24,
   "metadata": {},
   "outputs": [],
   "source": [
    "lst3 = [0, 1 , 4, 3]\n",
    "\n",
    "lenLst3 = len(lst3)\n"
   ]
  },
  {
   "cell_type": "code",
   "execution_count": 44,
   "metadata": {},
   "outputs": [
    {
     "name": "stdout",
     "output_type": "stream",
     "text": [
      "n ->0 next -> 1 diff -> 1\n",
      "n ->1 next -> 4 diff -> 3\n",
      "n ->4 next -> 3 diff -> 1\n",
      "5\n"
     ]
    }
   ],
   "source": [
    "if (lenLst3 <= 1):\n",
    "    print('0')\n",
    "else:\n",
    "    count = 0\n",
    "    for index, num in enumerate(lst3):\n",
    "        if (index == lenLst3 - 1):\n",
    "            break\n",
    "        nextValue = lst3[index + 1]\n",
    "        absValue = abs(num - nextValue)\n",
    "        print(f'n ->{num} next -> {nextValue} diff -> {absValue}')\n",
    "        count += absValue\n",
    "    print(count)"
   ]
  },
  {
   "cell_type": "code",
   "execution_count": 45,
   "metadata": {},
   "outputs": [
    {
     "data": {
      "text/plain": [
       "[2, 1, 3, 4, 1, 1, 2, 4, 10, 3, 4, 3, 5, 6, 32, 11]"
      ]
     },
     "execution_count": 45,
     "metadata": {},
     "output_type": "execute_result"
    }
   ],
   "source": [
    "arr1 = [2, 1, 3, 4, 1]\n",
    "arr2 = [1, 2, 4]\n",
    "arr3 = [10, 3, 4, 3, 5, 6, 32, 11]\n",
    "\n",
    "# make a new arr4 which include all the elements in order first of arr1 then arr2 and then arr3\n",
    "# Write your code here\n",
    "arr4 = arr1 + arr2 + arr3\n",
    "arr4"
   ]
  },
  {
   "cell_type": "code",
   "execution_count": 60,
   "metadata": {},
   "outputs": [
    {
     "name": "stdout",
     "output_type": "stream",
     "text": [
      "10 30\n",
      "2 15\n",
      "1 4\n",
      "4 5\n"
     ]
    }
   ],
   "source": [
    "def main():\n",
    "    # YOUR CODE GOES HERE\n",
    "    # Please take input and print output to standard input/output (stdin/stdout)\n",
    "    N = 9\n",
    "    items = {}\n",
    "    for i in range(N):\n",
    "        itemDetails = input()\n",
    "        itemDetails = itemDetails.split(' ')\n",
    "        itemId, price = itemDetails[0] , itemDetails[1]\n",
    "        if (itemId not in items):\n",
    "            items[itemId] = 0\n",
    "        items[itemId] = items[itemId] + int(price)\n",
    "\n",
    "    for key in items:\n",
    "        print('{} {}'.format(key, items[key]))\n",
    "    # E.g. 'input()/raw_input()' for input & 'print' for output\n",
    "\n",
    "    return 0\n",
    "\n",
    "if __name__ == '__main__':\n",
    "    main()"
   ]
  },
  {
   "cell_type": "code",
   "execution_count": 48,
   "metadata": {},
   "outputs": [],
   "source": [
    "B = 'a x z'.split(' ')"
   ]
  },
  {
   "cell_type": "code",
   "execution_count": 49,
   "metadata": {},
   "outputs": [
    {
     "data": {
      "text/plain": [
       "{'a', 'x', 'z'}"
      ]
     },
     "execution_count": 49,
     "metadata": {},
     "output_type": "execute_result"
    }
   ],
   "source": [
    "set(B)"
   ]
  },
  {
   "cell_type": "code",
   "execution_count": 61,
   "metadata": {},
   "outputs": [
    {
     "data": {
      "text/plain": [
       "[1, 2, 3, 4, 5, 6, 7]"
      ]
     },
     "execution_count": 61,
     "metadata": {},
     "output_type": "execute_result"
    }
   ],
   "source": [
    "lst"
   ]
  },
  {
   "cell_type": "code",
   "execution_count": 65,
   "metadata": {},
   "outputs": [],
   "source": [
    "from functools import reduce \n"
   ]
  },
  {
   "cell_type": "code",
   "execution_count": 73,
   "metadata": {},
   "outputs": [],
   "source": [
    "lst4 = [1, -4, 8, 3, -9, 10] \n",
    "lstLen4 = len(lst4)"
   ]
  },
  {
   "cell_type": "code",
   "execution_count": 80,
   "metadata": {},
   "outputs": [
    {
     "name": "stdout",
     "output_type": "stream",
     "text": [
      "[1, -4, -9, 10]\n"
     ]
    }
   ],
   "source": [
    "lastV = 0\n",
    "values: list = []\n",
    "for index, num in enumerate(lst4):\n",
    "    if (index == lstLen4 - 1):\n",
    "        break\n",
    "    nextValue = lst4[index + 1]\n",
    "    absValue = abs(num * nextValue)\n",
    "    if (lastV < absValue):\n",
    "        values.append(num) \n",
    "        lastV = absValue\n",
    "values.append(lst4[-1])\n",
    "print(values)"
   ]
  },
  {
   "cell_type": "code",
   "execution_count": 84,
   "metadata": {},
   "outputs": [
    {
     "name": "stdout",
     "output_type": "stream",
     "text": [
      "[1, -4, 8, 10]\n"
     ]
    }
   ],
   "source": [
    "lst4 = [1, -4, 8, 3, -9, 10] \n",
    "lstLen4 = len(lst4)\n",
    "lastV = 0\n",
    "values: list = [lst4[0]]\n",
    "# valueSet: set = set()\n",
    "for index, num in enumerate(lst4):\n",
    "    if (index == lstLen4 - 1):\n",
    "        break\n",
    "    nextValue = lst4[index + 1]\n",
    "    absValue = abs(num * nextValue)\n",
    "    if (lastV < absValue):\n",
    "        # valueSet.add(num)\n",
    "        #valueSet.add(nextValue)\n",
    "        #if (num not in values): # if the will ask to add both numbers\n",
    "        #    values.append(num)\n",
    "        if (nextValue not in values):\n",
    "            values.append(nextValue)\n",
    "        lastV = absValue\n",
    "\n",
    "# values = list(valueSet)\n",
    "\n",
    "# print(values)\n",
    "\n",
    "# values = sorted(values)\n",
    "print(values)"
   ]
  },
  {
   "cell_type": "code",
   "execution_count": 2,
   "metadata": {},
   "outputs": [
    {
     "data": {
      "text/plain": [
       "['fun', 'programming', 'language']"
      ]
     },
     "execution_count": 2,
     "metadata": {},
     "output_type": "execute_result"
    }
   ],
   "source": [
    "text = ['Python', 'is', 'a', 'fun', 'programming', 'language']\n",
    "text[3::]"
   ]
  },
  {
   "cell_type": "code",
   "execution_count": 5,
   "metadata": {},
   "outputs": [
    {
     "data": {
      "text/plain": [
       "['Python', 'is', 'a', 'fun', 'programming']"
      ]
     },
     "execution_count": 5,
     "metadata": {},
     "output_type": "execute_result"
    }
   ],
   "source": [
    "text[:-1] "
   ]
  },
  {
   "cell_type": "code",
   "execution_count": 6,
   "metadata": {},
   "outputs": [
    {
     "ename": "SyntaxError",
     "evalue": "invalid syntax (<ipython-input-6-e16f929eeff9>, line 24)",
     "output_type": "error",
     "traceback": [
      "\u001b[0;36m  File \u001b[0;32m\"<ipython-input-6-e16f929eeff9>\"\u001b[0;36m, line \u001b[0;32m24\u001b[0m\n\u001b[0;31m    if (firstNum in units and !(isLastTwo or isLast3 or isLast4) ):\u001b[0m\n\u001b[0m                              ^\u001b[0m\n\u001b[0;31mSyntaxError\u001b[0m\u001b[0;31m:\u001b[0m invalid syntax\n"
     ]
    }
   ],
   "source": [
    "def main():\n",
    "    # YOUR CODE GOES HERE\n",
    "    # Please take input and print output to standard input/output (stdin/stdout)\n",
    "    # E.g. 'input()/raw_input()' for input & 'print' for output\n",
    "    N = input()\n",
    "\n",
    "    for i in range(N):\n",
    "        romanStr = input()\n",
    "        units = [\"I\", \"II\", \"III\" , 'IV' , 'V', 'VI', 'VII', 'VIII', \"IX\"]\n",
    "        tens = ['X', \"XX\", \"XXX\", 'XL', 'L', 'LX', 'LXX', 'LXXX', 'XC']\n",
    "        hundreds = ['C', 'CC', 'CCC', 'CD', 'D', 'DC', 'DCC', 'DCCC', 'CM']\n",
    "        thousands = ['M', 'MM', 'MMM']\n",
    "        \n",
    "        lenRom = len(romanStr)\n",
    "        copy = romanStr\n",
    "        # check units\n",
    "        firstNum = copy[-1]\n",
    "        lastTwo = copy[-2] + copy[-1]\n",
    "        last3 = copy[-3::]\n",
    "        last4 = copy[-3::]\n",
    "        isLastTwo = lastTwo in units\n",
    "        isLast3 = last3 in units\n",
    "        isLast4 = last4 in units\n",
    "        if (firstNum in units and !(isLastTwo or isLast3 or isLast4) ):\n",
    "            copy = copy[:-1]\n",
    "        else if (isLastTwo and !(isLast3 or isLast4) ):\n",
    "            copy = copy[:-2]\n",
    "        else if (isLast3 and !(isLast4) ):\n",
    "            copy = copy[:-3]\n",
    "        else if (isLast4):\n",
    "            copy = copy[:-3]\n",
    "        else:\n",
    "            print(False)\n",
    "            continue\n",
    "        \n",
    "\n",
    "\n",
    "    return 0\n",
    "\n",
    "if __name__ == '__main__':\n",
    "    main()"
   ]
  },
  {
   "cell_type": "code",
   "execution_count": 7,
   "metadata": {},
   "outputs": [
    {
     "data": {
      "text/plain": [
       "0"
      ]
     },
     "execution_count": 7,
     "metadata": {},
     "output_type": "execute_result"
    }
   ],
   "source": [
    "len('')"
   ]
  },
  {
   "cell_type": "code",
   "execution_count": 9,
   "metadata": {},
   "outputs": [
    {
     "data": {
      "text/plain": [
       "'ga'"
      ]
     },
     "execution_count": 9,
     "metadata": {},
     "output_type": "execute_result"
    }
   ],
   "source": [
    "'gasdasd'[:2]"
   ]
  },
  {
   "cell_type": "code",
   "execution_count": 10,
   "metadata": {},
   "outputs": [
    {
     "name": "stdout",
     "output_type": "stream",
     "text": [
      "NO\n"
     ]
    }
   ],
   "source": [
    "def main():\n",
    "    # YOUR CODE GOES HERE\n",
    "    # Please take input and print output to standard input/output (stdin/stdout)\n",
    "    # E.g. 'input()/raw_input()' for input & 'print' for output\n",
    "    N = 1\n",
    "    N = int(N)\n",
    "    for i in range(N):\n",
    "        numberStr = '6431923912'\n",
    "        try:\n",
    "            number = int(numberStr)\n",
    "            if (numberStr[0] in [6,7,8] and len(numberStr) == 10):\n",
    "                print(\"YES\")\n",
    "            else:\n",
    "                print(\"NO\")\n",
    "        except:\n",
    "            print(\"NO\")\n",
    "    return 0\n",
    "\n",
    "if __name__ == '__main__':\n",
    "    main()"
   ]
  },
  {
   "cell_type": "code",
   "execution_count": null,
   "metadata": {},
   "outputs": [],
   "source": [
    "def main():\n",
    "    # YOUR CODE GOES HERE\n",
    "    # Please take input and print output to standard input/output (stdin/stdout)\n",
    "    # E.g. 'input()/raw_input()' for input & 'print' for output\n",
    "    N = 1\n",
    "    for i in range(N):\n",
    "        romanStr = input() # your str\n",
    "        units = [\"I\", \"II\", \"III\" , 'IV' , 'V', 'VI', 'VII', 'VIII', \"IX\"]\n",
    "        tens = ['X', \"XX\", \"XXX\", 'XL', 'L', 'LX', 'LXX', 'LXXX', 'XC']\n",
    "        hundreds = ['C', 'CC', 'CCC', 'CD', 'D', 'DC', 'DCC', 'DCCC', 'CM']\n",
    "        thousands = ['M', 'MM', 'MMM']\n",
    "        allTypes = [units, tens, hundreds, thousands][::-1]\n",
    "        isError = False\n",
    "        copy = romanStr\n",
    "        while len(copy) > 0 and len(allTypes) > 0:\n",
    "            currentUnit = allTypes[0]\n",
    "            # check units\n",
    "            firstNum = copy[0]\n",
    "            lastTwo = copy[:2]\n",
    "            last3 = copy[:3]\n",
    "            last4 = copy[:4]\n",
    "            isLastTwo = lastTwo in currentUnit and len(lastTwo) == 2\n",
    "            isLast3 = last3 in currentUnit and len(last3) == 3\n",
    "            isLast4 = last4 in currentUnit and len(last4) == 4\n",
    "            \n",
    "            if (firstNum in currentUnit and not (isLastTwo or isLast3 or isLast4) ):\n",
    "                copy = copy[1::]\n",
    "                isError = False\n",
    "            elif (isLastTwo and not (isLast3 or isLast4) ):\n",
    "                copy = copy[2::]\n",
    "                isError = False\n",
    "            elif (isLast3 and not (isLast4) ):\n",
    "                copy = copy[3::]\n",
    "                isError = False\n",
    "            elif (isLast4):\n",
    "                copy = copy[4::]\n",
    "                isError = False\n",
    "            else:\n",
    "                \n",
    "                isError = True\n",
    "                # copy = ''\n",
    "            allTypes.pop(0)\n",
    "        \n",
    "        if (isError or len(copy) != 0 ):\n",
    "            print(\"NO\")\n",
    "            return 0\n",
    "        else:\n",
    "            print(\"YES\")\n",
    "            return 1\n",
    "\n",
    "    return 0\n",
    "\n",
    "if __name__ == '__main__':\n",
    "    main()"
   ]
  }
 ],
 "metadata": {
  "interpreter": {
   "hash": "40d3a090f54c6569ab1632332b64b2c03c39dcf918b08424e98f38b5ae0af88f"
  },
  "kernelspec": {
   "display_name": "Python 3.8.8 ('base')",
   "language": "python",
   "name": "python3"
  },
  "language_info": {
   "codemirror_mode": {
    "name": "ipython",
    "version": 3
   },
   "file_extension": ".py",
   "mimetype": "text/x-python",
   "name": "python",
   "nbconvert_exporter": "python",
   "pygments_lexer": "ipython3",
   "version": "3.8.8"
  },
  "orig_nbformat": 4
 },
 "nbformat": 4,
 "nbformat_minor": 2
}
