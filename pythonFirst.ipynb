{
 "cells": [
  {
   "cell_type": "code",
   "execution_count": 1,
   "id": "5c462c4f",
   "metadata": {},
   "outputs": [],
   "source": [
    "x= 5"
   ]
  },
  {
   "cell_type": "code",
   "execution_count": 4,
   "id": "e442e9a8",
   "metadata": {},
   "outputs": [
    {
     "data": {
      "text/plain": [
       "5"
      ]
     },
     "execution_count": 4,
     "metadata": {},
     "output_type": "execute_result"
    }
   ],
   "source": [
    "x"
   ]
  },
  {
   "cell_type": "markdown",
   "id": "0e383e27",
   "metadata": {},
   "source": [
    "## title"
   ]
  },
  {
   "cell_type": "markdown",
   "id": "45628b48",
   "metadata": {},
   "source": [
    "# title 1"
   ]
  },
  {
   "cell_type": "code",
   "execution_count": null,
   "id": "acb93f91",
   "metadata": {},
   "outputs": [],
   "source": []
  },
  {
   "cell_type": "code",
   "execution_count": 7,
   "id": "6174aeef",
   "metadata": {},
   "outputs": [
    {
     "name": "stdout",
     "output_type": "stream",
     "text": [
      "# set\n",
      "\n",
      "my_set: set[str] = {'apple', 'aws', 'gcp', 'apple'}\n",
      "my_set.add('micro')\n",
      "print(my_set)\n",
      "'''\n",
      "my_set.discard('aws')\n",
      "second_set: set[str] = {'iphone', 'gcp', 'aws'}\n",
      "difference: set[str] = my_set.difference(second_set)\n",
      "print(my_set.intersection(second_set))\n",
      "print(my_set.union(second_set))\n",
      "el = my_set.pop('aws') # remove the element going to return it\n",
      "print(f'{my_set} ,,,,, pop = > {my_set}')\n",
      "my_set.remove('gcp') # remove the element not going to return it\n",
      "my_set.issuperset # does contain set\n",
      "my_set.issubset # does contained in another set\n",
      "'''\n",
      "my_set.update({'test', 'aws'}) # combine sets\n",
      "print(my_set)\n",
      "''' \n",
      "# my map \n",
      "maps: dict[str: str] = {}\n",
      "\n",
      "print(maps)\n",
      "\n",
      "'''\n",
      "\n"
     ]
    }
   ],
   "source": [
    "content = ''\n",
    "with open('test.py', mode='r') as f:\n",
    "    content = f.read()\n",
    "    \n",
    "print(content)"
   ]
  },
  {
   "cell_type": "code",
   "execution_count": null,
   "id": "8426c284",
   "metadata": {},
   "outputs": [],
   "source": []
  },
  {
   "cell_type": "code",
   "execution_count": null,
   "id": "2769d676",
   "metadata": {},
   "outputs": [],
   "source": []
  }
 ],
 "metadata": {
  "kernelspec": {
   "display_name": "Python 3",
   "language": "python",
   "name": "python3"
  },
  "language_info": {
   "codemirror_mode": {
    "name": "ipython",
    "version": 3
   },
   "file_extension": ".py",
   "mimetype": "text/x-python",
   "name": "python",
   "nbconvert_exporter": "python",
   "pygments_lexer": "ipython3",
   "version": "3.8.8"
  }
 },
 "nbformat": 4,
 "nbformat_minor": 5
}
