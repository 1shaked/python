{
 "cells": [
  {
   "cell_type": "code",
   "execution_count": 1,
   "id": "d61c3e84",
   "metadata": {},
   "outputs": [
    {
     "name": "stdout",
     "output_type": "stream",
     "text": [
      "{'A': 1667, 'B': 0, 'f': 18999}\n"
     ]
    }
   ],
   "source": [
    "# Online Python compiler (interpreter) to run Python online.\n",
    "# Write Python 3 code in this online editor and run it.\n",
    "\n",
    "w = {\n",
    "    \"A\": {\n",
    "        \"f\": 3,\n",
    "        \"w\": 6,\n",
    "        'a': 6000\n",
    "    },\n",
    "    \"B\": {\n",
    "        'f': 1, 'w': 1, 'a': 2000\n",
    "    }\n",
    "}\n",
    "\n",
    "target = 10000\n",
    "typeof = 'a'\n",
    "obj = 'A'\n",
    "sec = 'B'\n",
    "\n",
    "maxF = {'A': 0, 'B': 0, 'f': 0 }\n",
    "\n",
    "for i in range(w[obj][typeof] + 1):\n",
    "    for j in range(w[sec][typeof] + 1):\n",
    "        \n",
    "        amount = w[obj]['w'] * i + w[sec]['w'] * j;\n",
    "        if (amount < target):\n",
    "            continue\n",
    "        \n",
    "        # calc food\n",
    "        remain = w[obj]['a'] - i\n",
    "        food = (w[obj]['f'] * remain) +(w[sec]['f'] * (w[obj]['a'] - j))\n",
    "        if (maxF['f'] < food):\n",
    "            maxF['A'] = i\n",
    "            maxF[\"B\"] = j\n",
    "            maxF[\"f\"] = food\n",
    "            \n",
    "            \n",
    "print(maxF)\n",
    "\n"
   ]
  },
  {
   "cell_type": "code",
   "execution_count": 1,
   "id": "d232cdd4",
   "metadata": {},
   "outputs": [
    {
     "name": "stdout",
     "output_type": "stream",
     "text": [
      "{'A': 1667, 'B': 0, 'f': 20999, 'C': 0}\n"
     ]
    }
   ],
   "source": [
    "# Online Python compiler (interpreter) to run Python online.\n",
    "# Write Python 3 code in this online editor and run it.\n",
    "\n",
    "w = {\n",
    "    \"A\": { \"f\": 3, \"w\": 6, 'a': 6000\n",
    "    },\n",
    "    \"B\": {\n",
    "        'f': 1, 'w': 1, 'a': 2000\n",
    "    },\n",
    "    \"C\": {\n",
    "        'f': 2, 'w': 1, 'a': 3000\n",
    "    }\n",
    "}\n",
    "\n",
    "target = 10000\n",
    "typeof = 'a'\n",
    "obj = 'A'\n",
    "sec = 'B'\n",
    "obj3 = 'C'\n",
    "maxF = {'A': 0, 'B': 0, 'f': 0, 'C': 0 }\n",
    "file  = 'res.json'\n",
    "import json\n",
    "with open(file, mode='r') as f:\n",
    "    maxF = json.loads(f.read())\n",
    "\n",
    "for i in range(832,w[obj][typeof] + 1):\n",
    "    amountA = w[obj]['w'] * i\n",
    "    for j in range(w[sec][typeof] + 1):\n",
    "        amountB = w[sec]['w'] * j\n",
    "        APlusB = amountB + amountA\n",
    "        remainToAdd = target - APlusB\n",
    "        workersNeededC = remainToAdd / w[obj3][typeof]\n",
    "        if (workersNeededC > w[obj3][typeof]):\n",
    "            continue\n",
    "        num = int(workersNeededC - 1)\n",
    "        if (num <= 0):\n",
    "            num = 0\n",
    "        for c in range(num,w[obj3][typeof] + 1):\n",
    "            amountC = w[obj3]['w'] * c\n",
    "            amount = amountA + amountB + amountC;\n",
    "            if (amount < target):\n",
    "                continue\n",
    "    \n",
    "            # calc food\n",
    "            remainA = w[obj]['a'] - i\n",
    "            remainB = w[sec]['a'] - j\n",
    "            remainC = w[obj3]['a'] - c\n",
    "            food = (w[obj]['f'] * remainA) +(w[sec]['f'] * remainB) + (w[obj3]['f'] * remainC)\n",
    "            if (maxF['f'] < food and food >= 14999):\n",
    "                maxF['A'] = i\n",
    "                maxF[\"B\"] = j\n",
    "                maxF[\"f\"] = food\n",
    "                maxF[\"C\"] = c\n",
    "                with open(file, 'w') as f:\n",
    "                    f.write(json.dumps(maxF, indent=4))\n",
    "\n",
    "            \n",
    "print(maxF)\n",
    "\n"
   ]
  },
  {
   "cell_type": "code",
   "execution_count": 4,
   "id": "cbf81d9e",
   "metadata": {},
   "outputs": [
    {
     "data": {
      "text/plain": [
       "{'A': 0, 'B': 0, 'f': 0, 'C': 0}"
      ]
     },
     "execution_count": 4,
     "metadata": {},
     "output_type": "execute_result"
    }
   ],
   "source": [
    "maxF"
   ]
  },
  {
   "cell_type": "code",
   "execution_count": 7,
   "id": "0c00e65e",
   "metadata": {},
   "outputs": [],
   "source": [
    "maxF[\"A\"] = 3\n",
    "with open(file, 'w') as f:\n",
    "    f.write(json.dumps(maxF, indent=4))"
   ]
  },
  {
   "cell_type": "code",
   "execution_count": 2,
   "id": "910b3dfd",
   "metadata": {},
   "outputs": [
    {
     "name": "stdout",
     "output_type": "stream",
     "text": [
      "20\n"
     ]
    }
   ],
   "source": [
    "sampleList = [96, -32, 83, -88, -21, -39, 46, -1, 8, 85, 4, -96, 74, 97, -45, 30, -7, -43, -36, 8]\n",
    "# del sampleList[7:26]\n",
    "print(len(sampleList))"
   ]
  },
  {
   "cell_type": "code",
   "execution_count": 3,
   "id": "1dccacb0",
   "metadata": {},
   "outputs": [
    {
     "name": "stdout",
     "output_type": "stream",
     "text": [
      "(1, 2)\n"
     ]
    }
   ],
   "source": [
    "def t():\n",
    "    return 1, 2\n",
    "print(t())"
   ]
  },
  {
   "cell_type": "code",
   "execution_count": 6,
   "id": "81898406",
   "metadata": {},
   "outputs": [
    {
     "name": "stdout",
     "output_type": "stream",
     "text": [
      "My name is james bond.and i am here\n"
     ]
    }
   ],
   "source": [
    "str = \"my name is James bond.and I am here\"\n",
    "print (str.capitalize())"
   ]
  },
  {
   "cell_type": "code",
   "execution_count": 10,
   "id": "3b4d660d",
   "metadata": {},
   "outputs": [
    {
     "name": "stdout",
     "output_type": "stream",
     "text": [
      "['kg', 'kk', 'kg', 'kg', 'kg', 'dg', 'dk', 'dg', 'dg', 'dg', 'bg', 'bk', 'bg', 'bg', 'bg', 'fg', 'fk', 'fg', 'fg', 'fg', 'kg', 'kk', 'kg', 'kg', 'kg']\n"
     ]
    }
   ],
   "source": [
    "resList = [x+y for x in ['k', 'd', 'b', 'f', 'k'] for y in ['g', 'k', 'g', 'g', 'g']]\n",
    "print(resList)"
   ]
  },
  {
   "cell_type": "code",
   "execution_count": 11,
   "id": "7e088c7e",
   "metadata": {},
   "outputs": [
    {
     "name": "stdout",
     "output_type": "stream",
     "text": [
      "<class 'tuple'>\n"
     ]
    }
   ],
   "source": [
    "aTuple = (1, 'Jhon', 1+3j)\n",
    "print(type(aTuple[2:3]))"
   ]
  },
  {
   "cell_type": "code",
   "execution_count": 12,
   "id": "6309671d",
   "metadata": {},
   "outputs": [
    {
     "ename": "TypeError",
     "evalue": "copy() takes no arguments (1 given)",
     "output_type": "error",
     "traceback": [
      "\u001b[0;31m---------------------------------------------------------------------------\u001b[0m",
      "\u001b[0;31mTypeError\u001b[0m                                 Traceback (most recent call last)",
      "\u001b[0;32m<ipython-input-12-09804c07d324>\u001b[0m in \u001b[0;36m<module>\u001b[0;34m\u001b[0m\n\u001b[1;32m      1\u001b[0m \u001b[0ma\u001b[0m \u001b[0;34m=\u001b[0m \u001b[0;34m[\u001b[0m\u001b[0;34m]\u001b[0m\u001b[0;34m;\u001b[0m\u001b[0;34m\u001b[0m\u001b[0;34m\u001b[0m\u001b[0m\n\u001b[0;32m----> 2\u001b[0;31m \u001b[0ma\u001b[0m\u001b[0;34m.\u001b[0m\u001b[0mcopy\u001b[0m\u001b[0;34m(\u001b[0m\u001b[0mresList\u001b[0m\u001b[0;34m)\u001b[0m\u001b[0;34m\u001b[0m\u001b[0;34m\u001b[0m\u001b[0m\n\u001b[0m",
      "\u001b[0;31mTypeError\u001b[0m: copy() takes no arguments (1 given)"
     ]
    }
   ],
   "source": [
    "a = [];\n",
    "a.copy()"
   ]
  },
  {
   "cell_type": "code",
   "execution_count": 14,
   "id": "b700fb75",
   "metadata": {},
   "outputs": [
    {
     "name": "stdout",
     "output_type": "stream",
     "text": [
      "0\n"
     ]
    }
   ],
   "source": [
    "str1 = 'manures as mutilation, despite';\n",
    "sub = str1;\n",
    "print(str1.count(sub, 17))"
   ]
  },
  {
   "cell_type": "code",
   "execution_count": 15,
   "id": "18be0635",
   "metadata": {},
   "outputs": [
    {
     "name": "stdout",
     "output_type": "stream",
     "text": [
      "[10, 20, 30, 40]\n",
      "[10, 20, 40]\n"
     ]
    }
   ],
   "source": [
    "sampleList = [10, 20, 30, 40, 50]\n",
    "sampleList.pop()\n",
    "print(sampleList)\n",
    "\n",
    "sampleList.pop(2)\n",
    "print(sampleList)"
   ]
  },
  {
   "cell_type": "code",
   "execution_count": 16,
   "id": "740d4d88",
   "metadata": {},
   "outputs": [
    {
     "name": "stdout",
     "output_type": "stream",
     "text": [
      "t\n",
      "16\n"
     ]
    }
   ],
   "source": [
    "aList = [\"Students\", [4, 8, 12, 16]]\n",
    "print(aList[0][1])    \n",
    "print(aList[1][3])\n"
   ]
  },
  {
   "cell_type": "code",
   "execution_count": null,
   "id": "4105b27b",
   "metadata": {},
   "outputs": [],
   "source": [
    "\n"
   ]
  },
  {
   "cell_type": "code",
   "execution_count": 28,
   "id": "b5207268",
   "metadata": {},
   "outputs": [
    {
     "name": "stdout",
     "output_type": "stream",
     "text": [
      "Welcom Student\n"
     ]
    }
   ],
   "source": [
    "str1 = 'Welcome'\n",
    "print (str1[:6] + ' Student')"
   ]
  },
  {
   "cell_type": "code",
   "execution_count": 29,
   "id": "96af7958",
   "metadata": {},
   "outputs": [
    {
     "name": "stdout",
     "output_type": "stream",
     "text": [
      "<class 'int'>\n"
     ]
    }
   ],
   "source": [
    "print(type(10))\n",
    "\n"
   ]
  },
  {
   "cell_type": "code",
   "execution_count": 30,
   "id": "a11bdd56",
   "metadata": {},
   "outputs": [
    {
     "name": "stdout",
     "output_type": "stream",
     "text": [
      "[2, 4, 6, 8, 10, 12, 14]\n"
     ]
    }
   ],
   "source": [
    "aList = [1, 2, 3, 4, 5, 6, 7]\n",
    "pow2 =  [2 * x for x in aList]\n",
    "print(pow2)"
   ]
  },
  {
   "cell_type": "code",
   "execution_count": 31,
   "id": "4952dabd",
   "metadata": {},
   "outputs": [],
   "source": [
    "\n",
    "str1 = 'Ault\\'Kelly'"
   ]
  },
  {
   "cell_type": "code",
   "execution_count": 32,
   "id": "2c6e2b8d",
   "metadata": {},
   "outputs": [
    {
     "data": {
      "text/plain": [
       "\"Ault'Kelly\""
      ]
     },
     "execution_count": 32,
     "metadata": {},
     "output_type": "execute_result"
    }
   ],
   "source": [
    "str1 = \"\"\"Ault\\'Kelly\"\"\"\n",
    "str1\n"
   ]
  },
  {
   "cell_type": "code",
   "execution_count": 33,
   "id": "8060efb6",
   "metadata": {},
   "outputs": [
    {
     "data": {
      "text/plain": [
       "['a', 'b', 'c', 'd', 'e', 'f', 'g']"
      ]
     },
     "execution_count": 33,
     "metadata": {},
     "output_type": "execute_result"
    }
   ],
   "source": [
    "listOne  =  ['a', 'b', 'c', 'd']\n",
    "listTwo =  ['e', 'f', 'g']\n",
    "listOne + listTwo\n"
   ]
  },
  {
   "cell_type": "code",
   "execution_count": 26,
   "id": "510cc331",
   "metadata": {},
   "outputs": [
    {
     "data": {
      "text/plain": [
       "['a', 'b', 'c', 'd', 'e', 'f', 'g']"
      ]
     },
     "execution_count": 26,
     "metadata": {},
     "output_type": "execute_result"
    }
   ],
   "source": [
    "listOne"
   ]
  },
  {
   "cell_type": "code",
   "execution_count": 34,
   "id": "512545d3",
   "metadata": {},
   "outputs": [
    {
     "ename": "TypeError",
     "evalue": "'str' object is not callable",
     "output_type": "error",
     "traceback": [
      "\u001b[0;31m---------------------------------------------------------------------------\u001b[0m",
      "\u001b[0;31mTypeError\u001b[0m                                 Traceback (most recent call last)",
      "\u001b[0;32m<ipython-input-34-2375d19a7baf>\u001b[0m in \u001b[0;36m<module>\u001b[0;34m\u001b[0m\n\u001b[0;32m----> 1\u001b[0;31m \u001b[0mstrOne\u001b[0m \u001b[0;34m=\u001b[0m \u001b[0mstr\u001b[0m\u001b[0;34m(\u001b[0m\u001b[0;34m\"ThisString\"\u001b[0m\u001b[0;34m)\u001b[0m\u001b[0;34m\u001b[0m\u001b[0;34m\u001b[0m\u001b[0m\n\u001b[0m\u001b[1;32m      2\u001b[0m \u001b[0mstrTwo\u001b[0m \u001b[0;34m=\u001b[0m \u001b[0;34m\"ThisString\"\u001b[0m\u001b[0;34m\u001b[0m\u001b[0;34m\u001b[0m\u001b[0m\n\u001b[1;32m      3\u001b[0m \u001b[0mprint\u001b[0m\u001b[0;34m(\u001b[0m\u001b[0mstrOne\u001b[0m \u001b[0;34m==\u001b[0m \u001b[0mstrTwo\u001b[0m\u001b[0;34m)\u001b[0m\u001b[0;34m\u001b[0m\u001b[0;34m\u001b[0m\u001b[0m\n\u001b[1;32m      4\u001b[0m \u001b[0mprint\u001b[0m\u001b[0;34m(\u001b[0m\u001b[0mstrOne\u001b[0m \u001b[0;32mis\u001b[0m \u001b[0mstrTwo\u001b[0m\u001b[0;34m)\u001b[0m\u001b[0;34m\u001b[0m\u001b[0;34m\u001b[0m\u001b[0m\n",
      "\u001b[0;31mTypeError\u001b[0m: 'str' object is not callable"
     ]
    }
   ],
   "source": [
    "strOne = str(\"ThisString\")\n",
    "strTwo = \"ThisString\"\n",
    "print(strOne == strTwo)\n",
    "print(strOne is strTwo)"
   ]
  },
  {
   "cell_type": "code",
   "execution_count": 36,
   "id": "30bc38ef",
   "metadata": {},
   "outputs": [
    {
     "data": {
      "text/plain": [
       "\"'str1'\""
      ]
     },
     "execution_count": 36,
     "metadata": {},
     "output_type": "execute_result"
    }
   ],
   "source": [
    "str1 = \"'str1'\"\n",
    "str1"
   ]
  },
  {
   "cell_type": "code",
   "execution_count": 38,
   "id": "e2a8ca7f",
   "metadata": {},
   "outputs": [
    {
     "ename": "TypeError",
     "evalue": "fun1() takes 0 positional arguments but 3 were given",
     "output_type": "error",
     "traceback": [
      "\u001b[0;31m---------------------------------------------------------------------------\u001b[0m",
      "\u001b[0;31mTypeError\u001b[0m                                 Traceback (most recent call last)",
      "\u001b[0;32m<ipython-input-38-83fd6d5135c9>\u001b[0m in \u001b[0;36m<module>\u001b[0;34m\u001b[0m\n\u001b[1;32m      2\u001b[0m     \u001b[0mprint\u001b[0m\u001b[0;34m(\u001b[0m\u001b[0mdata\u001b[0m\u001b[0;34m)\u001b[0m\u001b[0;34m\u001b[0m\u001b[0;34m\u001b[0m\u001b[0m\n\u001b[1;32m      3\u001b[0m \u001b[0;34m\u001b[0m\u001b[0m\n\u001b[0;32m----> 4\u001b[0;31m \u001b[0mfun1\u001b[0m\u001b[0;34m(\u001b[0m\u001b[0;36m10\u001b[0m\u001b[0;34m,\u001b[0m \u001b[0;36m23\u001b[0m\u001b[0;34m,\u001b[0m \u001b[0;36m22\u001b[0m\u001b[0;34m)\u001b[0m\u001b[0;34m\u001b[0m\u001b[0;34m\u001b[0m\u001b[0m\n\u001b[0m\u001b[1;32m      5\u001b[0m \u001b[0mfun1\u001b[0m\u001b[0;34m(\u001b[0m\u001b[0;36m10\u001b[0m\u001b[0;34m,\u001b[0m \u001b[0;36m23\u001b[0m\u001b[0;34m)\u001b[0m\u001b[0;34m\u001b[0m\u001b[0;34m\u001b[0m\u001b[0m\n",
      "\u001b[0;31mTypeError\u001b[0m: fun1() takes 0 positional arguments but 3 were given"
     ]
    }
   ],
   "source": [
    "def fun1(**data):\n",
    "    print(data)\n",
    "\n",
    "fun1(10, 23, 22)\n",
    "fun1(10, 23)"
   ]
  },
  {
   "cell_type": "code",
   "execution_count": 39,
   "id": "3bead9cc",
   "metadata": {},
   "outputs": [
    {
     "ename": "NameError",
     "evalue": "name 'num' is not defined",
     "output_type": "error",
     "traceback": [
      "\u001b[0;31m---------------------------------------------------------------------------\u001b[0m",
      "\u001b[0;31mNameError\u001b[0m                                 Traceback (most recent call last)",
      "\u001b[0;32m<ipython-input-39-a0a88c5ec691>\u001b[0m in \u001b[0;36m<module>\u001b[0;34m\u001b[0m\n\u001b[1;32m      3\u001b[0m \u001b[0;34m\u001b[0m\u001b[0m\n\u001b[1;32m      4\u001b[0m \u001b[0mfun1\u001b[0m\u001b[0;34m(\u001b[0m\u001b[0;36m5\u001b[0m\u001b[0;34m)\u001b[0m\u001b[0;34m\u001b[0m\u001b[0;34m\u001b[0m\u001b[0m\n\u001b[0;32m----> 5\u001b[0;31m \u001b[0mprint\u001b[0m\u001b[0;34m(\u001b[0m\u001b[0mnum\u001b[0m\u001b[0;34m)\u001b[0m\u001b[0;34m\u001b[0m\u001b[0;34m\u001b[0m\u001b[0m\n\u001b[0m",
      "\u001b[0;31mNameError\u001b[0m: name 'num' is not defined"
     ]
    }
   ],
   "source": [
    "def fun1(num):\n",
    "    return num + 25\n",
    "\n",
    "fun1(5)\n",
    "print(num)"
   ]
  },
  {
   "cell_type": "code",
   "execution_count": 40,
   "id": "da9f6c30",
   "metadata": {},
   "outputs": [
    {
     "name": "stdout",
     "output_type": "stream",
     "text": [
      "[10, 20, 30, 40, 50, 60]\n",
      "[10, 20, 30, 40, 50, 60, 60]\n"
     ]
    }
   ],
   "source": [
    "sampleList = [10, 20, 30, 40, 50]\n",
    "sampleList.append(60)\n",
    "print(sampleList)\n",
    "\n",
    "sampleList.append(60)\n",
    "print(sampleList)"
   ]
  },
  {
   "cell_type": "code",
   "execution_count": 41,
   "id": "bd3f8e82",
   "metadata": {},
   "outputs": [
    {
     "name": "stdout",
     "output_type": "stream",
     "text": [
      "Emma 25\n"
     ]
    }
   ],
   "source": [
    "def fun1(name, age=20):\n",
    "    print(name, age)\n",
    "\n",
    "fun1('Emma', 25)"
   ]
  },
  {
   "cell_type": "code",
   "execution_count": 42,
   "id": "4de18f18",
   "metadata": {},
   "outputs": [
    {
     "name": "stdout",
     "output_type": "stream",
     "text": [
      "26\n"
     ]
    }
   ],
   "source": [
    "def outer_fun(a, b,c,d):\n",
    "    def inner_fun(e,f,g,h):\n",
    "        return (((e*f)+g)+h)\n",
    "\n",
    "    return inner_fun(a,b,c,d)\n",
    "    return a*b\n",
    "\n",
    "result = outer_fun(8, 2, 7, 3)\n",
    "print(result)"
   ]
  },
  {
   "cell_type": "code",
   "execution_count": 44,
   "id": "e1ca24c1",
   "metadata": {},
   "outputs": [
    {
     "name": "stdout",
     "output_type": "stream",
     "text": [
      "emp\n",
      "salary\n"
     ]
    }
   ],
   "source": [
    "def display(**kwargs):\n",
    "    for i in kwargs:\n",
    "        print(i)\n",
    "\n",
    "display(emp=\"Kelly\", salary=9000)\n",
    "\n"
   ]
  },
  {
   "cell_type": "code",
   "execution_count": 45,
   "id": "0eb97d99",
   "metadata": {},
   "outputs": [
    {
     "data": {
      "text/plain": [
       "dict"
      ]
     },
     "execution_count": 45,
     "metadata": {},
     "output_type": "execute_result"
    }
   ],
   "source": [
    "type({type()})"
   ]
  },
  {
   "cell_type": "code",
   "execution_count": 47,
   "id": "2d3be7d8",
   "metadata": {},
   "outputs": [
    {
     "data": {
      "text/plain": [
       "set"
      ]
     },
     "execution_count": 47,
     "metadata": {},
     "output_type": "execute_result"
    }
   ],
   "source": [
    "type({0 , 74})"
   ]
  },
  {
   "cell_type": "code",
   "execution_count": 48,
   "id": "aa0c85bb",
   "metadata": {},
   "outputs": [
    {
     "data": {
      "text/plain": [
       "list"
      ]
     },
     "execution_count": 48,
     "metadata": {},
     "output_type": "execute_result"
    }
   ],
   "source": [
    "type([242, 472])"
   ]
  },
  {
   "cell_type": "code",
   "execution_count": 49,
   "id": "891ad330",
   "metadata": {},
   "outputs": [
    {
     "data": {
      "text/plain": [
       "complex"
      ]
     },
     "execution_count": 49,
     "metadata": {},
     "output_type": "execute_result"
    }
   ],
   "source": [
    "type((467+212j))"
   ]
  },
  {
   "cell_type": "code",
   "execution_count": 53,
   "id": "2c0a250c",
   "metadata": {},
   "outputs": [
    {
     "data": {
      "text/plain": [
       "20"
      ]
     },
     "execution_count": 53,
     "metadata": {},
     "output_type": "execute_result"
    }
   ],
   "source": [
    "x = 50\n",
    "def fun1():\n",
    "    global x \n",
    "    x = 20\n",
    "\n",
    "fun1()\n",
    "x"
   ]
  },
  {
   "cell_type": "code",
   "execution_count": 54,
   "id": "38879337",
   "metadata": {},
   "outputs": [
    {
     "ename": "TypeError",
     "evalue": "display_person() got an unexpected keyword argument 'name'",
     "output_type": "error",
     "traceback": [
      "\u001b[0;31m---------------------------------------------------------------------------\u001b[0m",
      "\u001b[0;31mTypeError\u001b[0m                                 Traceback (most recent call last)",
      "\u001b[0;32m<ipython-input-54-a78e39ba141a>\u001b[0m in \u001b[0;36m<module>\u001b[0;34m\u001b[0m\n\u001b[1;32m      3\u001b[0m         \u001b[0mprint\u001b[0m\u001b[0;34m(\u001b[0m\u001b[0mi\u001b[0m\u001b[0;34m)\u001b[0m\u001b[0;34m\u001b[0m\u001b[0;34m\u001b[0m\u001b[0m\n\u001b[1;32m      4\u001b[0m \u001b[0;34m\u001b[0m\u001b[0m\n\u001b[0;32m----> 5\u001b[0;31m \u001b[0mdisplay_person\u001b[0m\u001b[0;34m(\u001b[0m\u001b[0mname\u001b[0m\u001b[0;34m=\u001b[0m\u001b[0;34m\"Emma\"\u001b[0m\u001b[0;34m,\u001b[0m \u001b[0mage\u001b[0m\u001b[0;34m=\u001b[0m\u001b[0;34m\"25\"\u001b[0m\u001b[0;34m)\u001b[0m\u001b[0;34m\u001b[0m\u001b[0;34m\u001b[0m\u001b[0m\n\u001b[0m",
      "\u001b[0;31mTypeError\u001b[0m: display_person() got an unexpected keyword argument 'name'"
     ]
    }
   ],
   "source": [
    "def display_person(*args):\n",
    "    for i in args:\n",
    "        print(i)\n",
    "\n",
    "display_person(name=\"Emma\", age=\"25\")"
   ]
  },
  {
   "cell_type": "code",
   "execution_count": 55,
   "id": "45f30e60",
   "metadata": {},
   "outputs": [
    {
     "name": "stdout",
     "output_type": "stream",
     "text": [
      "40\n",
      "[20, 30, 40]\n"
     ]
    }
   ],
   "source": [
    "sampleList = [10, 20, 30, 40, 50]\n",
    "print(sampleList[-2])\n",
    "print(sampleList[-4:-1])"
   ]
  },
  {
   "cell_type": "code",
   "execution_count": 57,
   "id": "71618f69",
   "metadata": {},
   "outputs": [
    {
     "name": "stdout",
     "output_type": "stream",
     "text": [
      "[-89, 77, -84, -98, 10]\n"
     ]
    }
   ],
   "source": [
    "aList = [-41, 10, 69, -27, 58, -26, 46, 7, -98, -45, -1, 93, -10, 94, -50, -84, 26, -5, -48, 79, -92, -28, 77, -18, -44, 39, -8, 81, 70, -89]\n",
    "print(aList[::-7])"
   ]
  },
  {
   "cell_type": "code",
   "execution_count": 58,
   "id": "07681b9e",
   "metadata": {},
   "outputs": [
    {
     "name": "stdout",
     "output_type": "stream",
     "text": [
      "True\n"
     ]
    }
   ],
   "source": [
    "print(type([]) is list)"
   ]
  },
  {
   "cell_type": "code",
   "execution_count": 61,
   "id": "0728e112",
   "metadata": {},
   "outputs": [
    {
     "name": "stdout",
     "output_type": "stream",
     "text": [
      "False\n",
      "True\n"
     ]
    }
   ],
   "source": [
    "str1 = \"My salary is 7000\";\n",
    "str2 = \"7000\"\n",
    "\n",
    "print(str1.isdigit())\n",
    "print(str2.isdigit())"
   ]
  },
  {
   "cell_type": "code",
   "execution_count": 64,
   "id": "f776498e",
   "metadata": {},
   "outputs": [
    {
     "name": "stdout",
     "output_type": "stream",
     "text": [
      "WelcomeWelcome\n"
     ]
    }
   ],
   "source": [
    "str1 = 'Welcome'\n",
    "print(str1*2)"
   ]
  },
  {
   "cell_type": "code",
   "execution_count": 65,
   "id": "62f3b838",
   "metadata": {},
   "outputs": [
    {
     "ename": "UnboundLocalError",
     "evalue": "local variable 'x' referenced before assignment",
     "output_type": "error",
     "traceback": [
      "\u001b[0;31m---------------------------------------------------------------------------\u001b[0m",
      "\u001b[0;31mUnboundLocalError\u001b[0m                         Traceback (most recent call last)",
      "\u001b[0;32m<ipython-input-65-493ac0a380fe>\u001b[0m in \u001b[0;36m<module>\u001b[0;34m\u001b[0m\n\u001b[1;32m      4\u001b[0m     \u001b[0mprint\u001b[0m\u001b[0;34m(\u001b[0m\u001b[0mx\u001b[0m\u001b[0;34m)\u001b[0m\u001b[0;34m\u001b[0m\u001b[0;34m\u001b[0m\u001b[0m\n\u001b[1;32m      5\u001b[0m \u001b[0;34m\u001b[0m\u001b[0m\n\u001b[0;32m----> 6\u001b[0;31m \u001b[0mmyfunc\u001b[0m\u001b[0;34m(\u001b[0m\u001b[0;34m)\u001b[0m\u001b[0;34m\u001b[0m\u001b[0;34m\u001b[0m\u001b[0m\n\u001b[0m\u001b[1;32m      7\u001b[0m \u001b[0mprint\u001b[0m\u001b[0;34m(\u001b[0m\u001b[0mx\u001b[0m\u001b[0;34m)\u001b[0m\u001b[0;34m\u001b[0m\u001b[0;34m\u001b[0m\u001b[0m\n",
      "\u001b[0;32m<ipython-input-65-493ac0a380fe>\u001b[0m in \u001b[0;36mmyfunc\u001b[0;34m()\u001b[0m\n\u001b[1;32m      1\u001b[0m \u001b[0mx\u001b[0m \u001b[0;34m=\u001b[0m \u001b[0;36m87\u001b[0m\u001b[0;34m\u001b[0m\u001b[0;34m\u001b[0m\u001b[0m\n\u001b[1;32m      2\u001b[0m \u001b[0;32mdef\u001b[0m \u001b[0mmyfunc\u001b[0m\u001b[0;34m(\u001b[0m\u001b[0;34m)\u001b[0m\u001b[0;34m:\u001b[0m\u001b[0;34m\u001b[0m\u001b[0;34m\u001b[0m\u001b[0m\n\u001b[0;32m----> 3\u001b[0;31m     \u001b[0mx\u001b[0m \u001b[0;34m=\u001b[0m \u001b[0mx\u001b[0m\u001b[0;34m%\u001b[0m\u001b[0;36m6\u001b[0m\u001b[0;34m\u001b[0m\u001b[0;34m\u001b[0m\u001b[0m\n\u001b[0m\u001b[1;32m      4\u001b[0m     \u001b[0mprint\u001b[0m\u001b[0;34m(\u001b[0m\u001b[0mx\u001b[0m\u001b[0;34m)\u001b[0m\u001b[0;34m\u001b[0m\u001b[0;34m\u001b[0m\u001b[0m\n\u001b[1;32m      5\u001b[0m \u001b[0;34m\u001b[0m\u001b[0m\n",
      "\u001b[0;31mUnboundLocalError\u001b[0m: local variable 'x' referenced before assignment"
     ]
    }
   ],
   "source": [
    "x = 87\n",
    "def myfunc():\n",
    "    x = x%6\n",
    "    print(x)\n",
    "\n",
    "myfunc()\n",
    "print(x)"
   ]
  },
  {
   "cell_type": "code",
   "execution_count": null,
   "id": "5225a9b8",
   "metadata": {},
   "outputs": [],
   "source": [
    "\n"
   ]
  },
  {
   "cell_type": "code",
   "execution_count": 73,
   "id": "58fc5562",
   "metadata": {},
   "outputs": [
    {
     "name": "stdout",
     "output_type": "stream",
     "text": [
      "of\n"
     ]
    }
   ],
   "source": [
    "list1 = ['ming', 'diands', 'of', 'doiniz', 'monvel']\n",
    "print (max(list1))"
   ]
  },
  {
   "cell_type": "code",
   "execution_count": null,
   "id": "f7627dca",
   "metadata": {},
   "outputs": [],
   "source": []
  }
 ],
 "metadata": {
  "interpreter": {
   "hash": "40d3a090f54c6569ab1632332b64b2c03c39dcf918b08424e98f38b5ae0af88f"
  },
  "kernelspec": {
   "display_name": "Python 3.8.8 ('base')",
   "language": "python",
   "name": "python3"
  },
  "language_info": {
   "codemirror_mode": {
    "name": "ipython",
    "version": 3
   },
   "file_extension": ".py",
   "mimetype": "text/x-python",
   "name": "python",
   "nbconvert_exporter": "python",
   "pygments_lexer": "ipython3",
   "version": "3.8.8"
  }
 },
 "nbformat": 4,
 "nbformat_minor": 5
}
